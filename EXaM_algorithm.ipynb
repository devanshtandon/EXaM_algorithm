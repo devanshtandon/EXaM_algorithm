{
 "cells": [
  {
   "cell_type": "code",
   "execution_count": null,
   "metadata": {
    "collapsed": true
   },
   "outputs": [],
   "source": [
    "# import libraries \n",
    "from scipy.optimize import linprog\n",
    "from math import sqrt\n",
    "from collections import defaultdict\n",
    "import numpy as np\n",
    "import random\n",
    "import copy\n",
    "import math\n",
    "import matplotlib.pyplot as plt \n",
    "import timeit\n",
    "import pandas as pd\n",
    "from decimal import Decimal\n",
    "from scipy import stats\n",
    "import time\n",
    "random.seed(42)"
   ]
  },
  {
   "cell_type": "code",
   "execution_count": null,
   "metadata": {
    "collapsed": true
   },
   "outputs": [],
   "source": [
    "# initialize constants\n",
    "\n",
    "# hardcoded constants for # of subjects, treatments, capacity, budget\n",
    "num_subjects = 1540 # i\n",
    "num_treatments = 2 # t\n",
    "capacity_matrix = [663, 877]\n",
    "budget = 100\n",
    "epsilon = 0.1 # has to be less than 0.5\n",
    "rct_treatment_probabilities = [capacity_matrix[0]*1.0/num_subjects, capacity_matrix[1]*1.0/num_subjects]\n",
    "budget_matrix = [budget] * num_subjects\n",
    "\n",
    "# Scaling factor for alpha, beta to set new prices -- hyperparameters\n",
    "beta_scaling_factor = budget/50"
   ]
  },
  {
   "cell_type": "code",
   "execution_count": null,
   "metadata": {
    "collapsed": true
   },
   "outputs": [],
   "source": [
    "# Initialize alpha, beta assumed to be positive\n",
    "def init_alpha():\n",
    "    alpha = np.asarray([random.randint(-budget, 0) for i in range(num_treatments)])\n",
    "    return alpha\n",
    "def init_beta():\n",
    "    beta = np.asarray([random.randint(-budget, budget) for i in range(num_treatments)])\n",
    "    return beta"
   ]
  },
  {
   "cell_type": "code",
   "execution_count": null,
   "metadata": {
    "collapsed": true
   },
   "outputs": [],
   "source": [
    "# Price vector pi(i,t) = alpha(t) * pte(i,t) + beta(t). Dimensions num_subjects * num_treatments\n",
    "def get_price_matrix(alpha, beta):\n",
    "    price_matrix = [[(alpha[index] * pte_t + beta[index]) for index, pte_t in enumerate(pte)] for pte in pte_matrix]\n",
    "    price_matrix = np.asarray(price_matrix)\n",
    "    return price_matrix"
   ]
  },
  {
   "cell_type": "code",
   "execution_count": null,
   "metadata": {
    "collapsed": true
   },
   "outputs": [],
   "source": [
    "# Demand p*(i,t) matrix. Solve LP to get values. Dimensions num_subjects * num_treatments\n",
    "def get_demand_matrix(price_matrix):\n",
    "    x0_bounds = (0,1)\n",
    "    x1_bounds = (0,1)\n",
    "    \n",
    "    # dummy first row necessary for linprog package\n",
    "    demand_matrix = np.ndarray((num_subjects,num_treatments), float)\n",
    "    for i in range(num_subjects):\n",
    "        # Constraints:\n",
    "        # 1. <p*(i), pi(i)> <= b(i) for every subject i\n",
    "        # 2. sum of all p*(t) = prob_threshold for every subject i\n",
    "        coefficients = price_matrix[i]\n",
    "        thresholds = budget_matrix[i]\n",
    "        \n",
    "        result = linprog(c=-wtp_matrix[i], \n",
    "                         A_ub = [[coefficients[0], coefficients[1]]],\n",
    "                         b_ub = thresholds,\n",
    "                         A_eq = [[1,1]],\n",
    "                         b_eq = 1,\n",
    "                         bounds = (x0_bounds, x1_bounds))\n",
    "        demand_matrix[i] = result.x\n",
    "    \n",
    "    # change the type to matrix\n",
    "    demand_matrix = np.asmatrix(demand_matrix)\n",
    "    # compute the bounded probability (as in slide page 7)\n",
    "    min_prob0 = float(min(demand_matrix[:,0]))\n",
    "    max_prob0 = float(max(demand_matrix[:,0]))\n",
    "    q1 = (epsilon - min_prob0) / (rct_treatment_probabilities[0] - min_prob0)\n",
    "    q2 = (1 - epsilon - max_prob0) / (rct_treatment_probabilities[0] - max_prob0)\n",
    "    min_prob1 = float(min(demand_matrix[:,1]))\n",
    "    max_prob1 = float(max(demand_matrix[:,1]))\n",
    "    q3 = (epsilon - min_prob1) / (rct_treatment_probabilities[1] - min_prob1)\n",
    "    q4 = (1 - epsilon - max_prob1) / (rct_treatment_probabilities[1] - max_prob1)    \n",
    "    q = max(q1,q2,q3,q4)\n",
    "    demand_matrix[:,0] = (1-q) * demand_matrix[:,0] + q * rct_treatment_probabilities[0]\n",
    "    demand_matrix[:,1] = (1-q) * demand_matrix[:,1] + q * rct_treatment_probabilities[1]\n",
    "    demand_matrix = np.asarray(demand_matrix)\n",
    "    \n",
    "    return demand_matrix"
   ]
  },
  {
   "cell_type": "code",
   "execution_count": null,
   "metadata": {
    "collapsed": true
   },
   "outputs": [],
   "source": [
    "# Treatment_demand(t) = sum of demand(t) across all i. Dimensions 1 * num_treatments\n",
    "def get_treatment_demand_matrix(demand_matrix):\n",
    "    treatment_demand_matrix = np.zeros(num_treatments)\n",
    "    for subject in range(num_subjects):\n",
    "        for treatment in range(num_treatments):\n",
    "            treatment_demand_matrix[treatment] += demand_matrix[subject, treatment]\n",
    "    return treatment_demand_matrix"
   ]
  },
  {
   "cell_type": "code",
   "execution_count": null,
   "metadata": {
    "collapsed": true
   },
   "outputs": [],
   "source": [
    "# Excess_demand(t) = treatment_demand(t) - capacity(t). Dimensions 1 * num_treatments\n",
    "def get_excess_demand_matrix(treatment_demand_matrix):\n",
    "    excess_demand_matrix = treatment_demand_matrix - capacity_matrix\n",
    "    return excess_demand_matrix\n",
    "\n",
    "# Clearing error in market = sqrt(sum of excess_demand(t)^2 for every treatment t)\n",
    "def get_clearing_error(excess_demand_matrix):\n",
    "    # If demand is satisfied everywhere and total capacity > number of subjects, no clearing error\n",
    "    if all(excess <= 0 for excess in excess_demand_matrix):\n",
    "        print \"get_clearing_error: Market clear, no clearing error!\"\n",
    "        return 0\n",
    "    else:\n",
    "        clearing_error = sqrt(sum([excess**2 for excess in excess_demand_matrix]))\n",
    "        clearing_error = clearing_error / sum(capacity_matrix)\n",
    "        print \"get_clearing_error: Clearing error:\", clearing_error\n",
    "        return clearing_error"
   ]
  },
  {
   "cell_type": "code",
   "execution_count": null,
   "metadata": {
    "collapsed": true
   },
   "outputs": [],
   "source": [
    "# Recalibrate alpha, beta values to set new prices\n",
    "def get_alpha_new(alpha, excess_demand_matrix):\n",
    "    alpha_new = alpha\n",
    "    return alpha_new\n",
    "\n",
    "def get_beta_new(beta, excess_demand_matrix):\n",
    "    beta_new = beta + excess_demand_matrix * beta_scaling_factor\n",
    "    return beta_new    "
   ]
  },
  {
   "cell_type": "code",
   "execution_count": null,
   "metadata": {
    "collapsed": true
   },
   "outputs": [],
   "source": [
    "# Find market clearing price vector. The objective is to change alpha and beta values so that we reduce clearing error\n",
    "def clear_market():\n",
    "    \n",
    "    # Initialize market prices and demand\n",
    "    alpha = init_alpha()\n",
    "    beta = init_beta()    \n",
    "    price_matrix = get_price_matrix(alpha, beta)\n",
    "    demand_matrix = get_demand_matrix(price_matrix)  \n",
    "    excess_demand_matrix = get_excess_demand_matrix(get_treatment_demand_matrix(demand_matrix))\n",
    "    clearing_error = get_clearing_error(excess_demand_matrix)\n",
    "    \n",
    "    # clearing error is percentage of total capacity so we want the market to clear at 1%\n",
    "    clearing_error_threshold = 0.01\n",
    "    threshold_iterations = 10\n",
    "    iterations = 0\n",
    "    minimum_clearing_error = clearing_error\n",
    "    alpha_star = 0\n",
    "    beta_star = 0\n",
    "    \n",
    "    # Set new prices to clear market\n",
    "    while True:\n",
    "        if iterations > threshold_iterations:\n",
    "            # new search start\n",
    "            alpha = init_alpha()                \n",
    "            beta = init_beta()\n",
    "            iterations = 0\n",
    "            print \"new search start\"\n",
    "        else:\n",
    "            # continue down current search\n",
    "            alpha = get_alpha_new(alpha, excess_demand_matrix)\n",
    "            beta = get_beta_new(beta, excess_demand_matrix)\n",
    "        \n",
    "        price_matrix = get_price_matrix(alpha, beta)\n",
    "        demand_matrix = get_demand_matrix(price_matrix)\n",
    "        excess_demand_matrix = get_excess_demand_matrix(get_treatment_demand_matrix(demand_matrix))\n",
    "        clearing_error = get_clearing_error(excess_demand_matrix)\n",
    "        \n",
    "        # Store parameter values for minimum clearing error\n",
    "        if clearing_error < minimum_clearing_error:\n",
    "            minimum_clearing_error = clearing_error\n",
    "            alpha_star = alpha.copy()\n",
    "            beta_star = beta.copy()\n",
    "        # cleared the market! \n",
    "        if minimum_clearing_error < clearing_error_threshold:\n",
    "            break\n",
    "        iterations += 1\n",
    "    \n",
    "    print \"Minimum clearing error:\", minimum_clearing_error\n",
    "    print \"Alpha_star:\", alpha_star\n",
    "    print \"Beta star:\", beta_star\n",
    "    return (minimum_clearing_error, alpha_star, beta_star)"
   ]
  }
 ],
 "metadata": {
  "anaconda-cloud": {},
  "kernelspec": {
   "display_name": "Python [py27]",
   "language": "python",
   "name": "Python [py27]"
  },
  "language_info": {
   "codemirror_mode": {
    "name": "ipython",
    "version": 2
   },
   "file_extension": ".py",
   "mimetype": "text/x-python",
   "name": "python",
   "nbconvert_exporter": "python",
   "pygments_lexer": "ipython2",
   "version": "2.7.12"
  }
 },
 "nbformat": 4,
 "nbformat_minor": 0
}
